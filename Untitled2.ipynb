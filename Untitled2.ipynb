{
  "nbformat": 4,
  "nbformat_minor": 0,
  "metadata": {
    "colab": {
      "provenance": [],
      "authorship_tag": "ABX9TyMMvZw7XiRgCTXZrnNpbAyA",
      "include_colab_link": true
    },
    "kernelspec": {
      "name": "python3",
      "display_name": "Python 3"
    },
    "language_info": {
      "name": "python"
    }
  },
  "cells": [
    {
      "cell_type": "markdown",
      "metadata": {
        "id": "view-in-github",
        "colab_type": "text"
      },
      "source": [
        "<a href=\"https://colab.research.google.com/github/2Milena0/or-tools/blob/main/Untitled2.ipynb\" target=\"_parent\"><img src=\"https://colab.research.google.com/assets/colab-badge.svg\" alt=\"Open In Colab\"/></a>"
      ]
    },
    {
      "cell_type": "code",
      "source": [
        "!pip install --upgrade pip\n",
        "!pip install --upgrade ortools\n",
        "\n",
        "\n",
        "\n",
        "\n",
        "from ortools.linear_solver import pywraplp\n",
        "\n",
        "def resolver_mdvrp():\n",
        "    # Crea el modelo\n",
        "    solver = pywraplp.Solver.CreateSolver('SCIP_MIXED_INTEGER_PROGRAMMING')\n",
        "\n",
        "\n",
        "  # Supongamos que tienes 3 depósitos, 7 clientes y 3 vehículos por depósito\n",
        "    n_clientes = 7\n",
        "    num_depositos = 3\n",
        "    num_vehiculos = 9\n",
        "    num_vehiculos_por_deposito = 3\n",
        "\n",
        "    solver = pywraplp.Solver.CreateSolver('SCIP')\n",
        "\n",
        "\n",
        "    # Datos específicos (ajusta según sea necesario)\n",
        "\n",
        "      # Variables\n",
        "    X_asi = {}\n",
        "    Y_yo = {}\n",
        "    S_asi = {}\n",
        "\n",
        "    #Definicion de capacidades de vehiculos\n",
        "    capacidades_vehiculos = {\n",
        "        1: (25, 35),\n",
        "        2: (30, 40),\n",
        "        3: (20, 30),\n",
        "    }\n",
        "    # Definicion de demandas de clientes\n",
        "    D_i = [solver.IntVar(5, 15, f'D_{i}') for i in range(1, n_clientes + 1)]\n",
        "\n",
        "\n",
        "    distancias_entre_ciudades = [[0, 400, 800, 600, 300, 900, 200, 700, 500, 100],\n",
        "                                 [400, 0, 600, 400, 500, 700, 500, 300, 300, 300],\n",
        "                                 [800, 600, 0, 200, 700, 400, 800, 400, 500, 700],\n",
        "                                 [600, 400, 200, 0, 500, 600, 400, 300, 100, 500],\n",
        "                                 [300, 500, 700, 500, 0, 800, 1000, 200, 400, 300],\n",
        "                                 [900, 700, 400, 600, 800, 0, 1100, 500, 600, 800],\n",
        "                                 [200, 500, 800, 400, 1000, 1100, 0, 900, 700, 400],\n",
        "                                 [700, 300, 400, 300, 200, 500, 900, 0, 200, 600],\n",
        "                                 [500, 300, 500, 100, 400, 600, 700, 200, 0, 500],\n",
        "                                 [100, 300, 700, 500, 300, 800, 400, 600, 500, 0]\n",
        "                                ]\n",
        "\n",
        "\n",
        "\n",
        "    # Definición de ventanas de tiempo\n",
        "    Inicio_i = {i: 8 * 60 for i in range(1, n_clientes + 1)}\n",
        "    Aleta_i = {i: 10 * 60 for i in range(1, n_clientes + 1)}\n",
        "    # Definición de servicios especiales\n",
        "    clientes_con_servicio_especial = {4, 7}\n",
        "\n",
        "\n",
        "\n",
        "    for i in range(1, n_clientes + 1):\n",
        "        for k in range(1, num_vehiculos + 1):\n",
        "            Y_yo[i, k] = solver.BoolVar(f'Y_{i}_{k}')\n",
        "            S_asi[i, k] = solver.BoolVar(f'S_{i}_{k}')\n",
        "\n",
        "        for j in range(1, n_clientes + 1):\n",
        "            X_asi[i, j, k] = solver.BoolVar(f'X_{i}_{j}_{k}')\n",
        "\n",
        "\n",
        "    # Función Objetivo\n",
        "    objetivo = solver.Objective()\n",
        "    for i in range(n_clientes):\n",
        "     for j in range(n_clientes):\n",
        "        for k in range(num_vehiculos_por_deposito * num_depositos):\n",
        "            if i < len(distancias_entre_ciudades) and j < len(distancias_entre_ciudades[i]):\n",
        "                try:\n",
        "                    print(f\"Valores de i, j, k:\", i, j, k)\n",
        "                    print(\"X_asi[i, j, k]:\", X_asi.get((i, j, k), 'No existe'))\n",
        "                    print(\"distancias_entre_ciudades[i][j]:\", distancias_entre_ciudades[i][j])\n",
        "                    objetivo.SetCoefficient(X_asi.get((i, j, k), 0), distancias_entre_ciudades[i][j])\n",
        "                except KeyError:\n",
        "                    print(f\"KeyError: No se encontró la clave ({i}, {j}, {k}) en X_asi\")\n",
        "            else:\n",
        "                print(f\"Índices fuera de rango: ({i}, {j})\")\n",
        "\n",
        "    # Restricciones\n",
        "    # (Ajusta las restricciones según tus necesidades)\n",
        "     for k in range(num_vehiculos):\n",
        "        solver.Add(solver.Sum(D_i[i - 1] * Y_yo[i, k] for i in range(1, n_clientes + 1)) <= capacidades_vehiculos[(k - 1) // num_vehiculos_por_deposito + 1][1])\n",
        "\n",
        "\n",
        "\n",
        "    # Resolver el modelo\n",
        "    solver.Solve()\n",
        "\n",
        "    # Imprimir resultados\n",
        "    if solver.StatusName() == 'OPTIMAL':\n",
        "        print('Solución Óptima Encontrada:')\n",
        "        for i in range(n_clientes):\n",
        "            for j in range(n_clientes):\n",
        "                for k in range(num_vehiculos_por_deposito * num_depositos):\n",
        "                    if X_asi[i, j, k].solution_value() > 0.5:\n",
        "                        print(f'Vehículo {k} va de Cliente {i} a Cliente {j}')\n",
        "    else:\n",
        "        print('No se encontró una solución óptima.')\n",
        "\n",
        "if __name__ == '__main__':\n",
        "    resolver_mdvrp()\n"
      ],
      "metadata": {
        "colab": {
          "base_uri": "https://localhost:8080/",
          "height": 671
        },
        "id": "QLD3CkqgqRrG",
        "outputId": "2ba0ab60-a457-4ef9-de44-1b41c4d870ff"
      },
      "execution_count": 5,
      "outputs": [
        {
          "output_type": "stream",
          "name": "stdout",
          "text": [
            "Requirement already satisfied: pip in /usr/local/lib/python3.10/dist-packages (23.3.1)\n",
            "\u001b[33mWARNING: Running pip as the 'root' user can result in broken permissions and conflicting behaviour with the system package manager. It is recommended to use a virtual environment instead: https://pip.pypa.io/warnings/venv\u001b[0m\u001b[33m\n",
            "\u001b[0mRequirement already satisfied: ortools in /usr/local/lib/python3.10/dist-packages (9.8.3296)\n",
            "Requirement already satisfied: absl-py>=2.0.0 in /usr/local/lib/python3.10/dist-packages (from ortools) (2.0.0)\n",
            "Requirement already satisfied: numpy>=1.13.3 in /usr/local/lib/python3.10/dist-packages (from ortools) (1.23.5)\n",
            "Requirement already satisfied: pandas>=2.0.0 in /usr/local/lib/python3.10/dist-packages (from ortools) (2.1.3)\n",
            "Requirement already satisfied: protobuf>=4.25.0 in /usr/local/lib/python3.10/dist-packages (from ortools) (4.25.1)\n",
            "Requirement already satisfied: python-dateutil>=2.8.2 in /usr/local/lib/python3.10/dist-packages (from pandas>=2.0.0->ortools) (2.8.2)\n",
            "Requirement already satisfied: pytz>=2020.1 in /usr/local/lib/python3.10/dist-packages (from pandas>=2.0.0->ortools) (2023.3.post1)\n",
            "Requirement already satisfied: tzdata>=2022.1 in /usr/local/lib/python3.10/dist-packages (from pandas>=2.0.0->ortools) (2023.3)\n",
            "Requirement already satisfied: six>=1.5 in /usr/local/lib/python3.10/dist-packages (from python-dateutil>=2.8.2->pandas>=2.0.0->ortools) (1.16.0)\n",
            "\u001b[33mWARNING: Running pip as the 'root' user can result in broken permissions and conflicting behaviour with the system package manager. It is recommended to use a virtual environment instead: https://pip.pypa.io/warnings/venv\u001b[0m\u001b[33m\n",
            "\u001b[0mValores de i, j, k: 0 0 0\n",
            "X_asi[i, j, k]: No existe\n",
            "distancias_entre_ciudades[i][j]: 0\n"
          ]
        },
        {
          "output_type": "error",
          "ename": "SystemError",
          "evalue": "ignored",
          "traceback": [
            "\u001b[0;31m---------------------------------------------------------------------------\u001b[0m",
            "\u001b[0;31mSystemError\u001b[0m                               Traceback (most recent call last)",
            "\u001b[0;32m<ipython-input-5-86b8d76d1fcb>\u001b[0m in \u001b[0;36m<cell line: 108>\u001b[0;34m()\u001b[0m\n\u001b[1;32m    107\u001b[0m \u001b[0;34m\u001b[0m\u001b[0m\n\u001b[1;32m    108\u001b[0m \u001b[0;32mif\u001b[0m \u001b[0m__name__\u001b[0m \u001b[0;34m==\u001b[0m \u001b[0;34m'__main__'\u001b[0m\u001b[0;34m:\u001b[0m\u001b[0;34m\u001b[0m\u001b[0;34m\u001b[0m\u001b[0m\n\u001b[0;32m--> 109\u001b[0;31m     \u001b[0mresolver_mdvrp\u001b[0m\u001b[0;34m(\u001b[0m\u001b[0;34m)\u001b[0m\u001b[0;34m\u001b[0m\u001b[0;34m\u001b[0m\u001b[0m\n\u001b[0m",
            "\u001b[0;32m<ipython-input-5-86b8d76d1fcb>\u001b[0m in \u001b[0;36mresolver_mdvrp\u001b[0;34m()\u001b[0m\n\u001b[1;32m     79\u001b[0m                     \u001b[0mprint\u001b[0m\u001b[0;34m(\u001b[0m\u001b[0;34m\"X_asi[i, j, k]:\"\u001b[0m\u001b[0;34m,\u001b[0m \u001b[0mX_asi\u001b[0m\u001b[0;34m.\u001b[0m\u001b[0mget\u001b[0m\u001b[0;34m(\u001b[0m\u001b[0;34m(\u001b[0m\u001b[0mi\u001b[0m\u001b[0;34m,\u001b[0m \u001b[0mj\u001b[0m\u001b[0;34m,\u001b[0m \u001b[0mk\u001b[0m\u001b[0;34m)\u001b[0m\u001b[0;34m,\u001b[0m \u001b[0;34m'No existe'\u001b[0m\u001b[0;34m)\u001b[0m\u001b[0;34m)\u001b[0m\u001b[0;34m\u001b[0m\u001b[0;34m\u001b[0m\u001b[0m\n\u001b[1;32m     80\u001b[0m                     \u001b[0mprint\u001b[0m\u001b[0;34m(\u001b[0m\u001b[0;34m\"distancias_entre_ciudades[i][j]:\"\u001b[0m\u001b[0;34m,\u001b[0m \u001b[0mdistancias_entre_ciudades\u001b[0m\u001b[0;34m[\u001b[0m\u001b[0mi\u001b[0m\u001b[0;34m]\u001b[0m\u001b[0;34m[\u001b[0m\u001b[0mj\u001b[0m\u001b[0;34m]\u001b[0m\u001b[0;34m)\u001b[0m\u001b[0;34m\u001b[0m\u001b[0;34m\u001b[0m\u001b[0m\n\u001b[0;32m---> 81\u001b[0;31m                     \u001b[0mobjetivo\u001b[0m\u001b[0;34m.\u001b[0m\u001b[0mSetCoefficient\u001b[0m\u001b[0;34m(\u001b[0m\u001b[0mX_asi\u001b[0m\u001b[0;34m.\u001b[0m\u001b[0mget\u001b[0m\u001b[0;34m(\u001b[0m\u001b[0;34m(\u001b[0m\u001b[0mi\u001b[0m\u001b[0;34m,\u001b[0m \u001b[0mj\u001b[0m\u001b[0;34m,\u001b[0m \u001b[0mk\u001b[0m\u001b[0;34m)\u001b[0m\u001b[0;34m,\u001b[0m \u001b[0;36m0\u001b[0m\u001b[0;34m)\u001b[0m\u001b[0;34m,\u001b[0m \u001b[0mdistancias_entre_ciudades\u001b[0m\u001b[0;34m[\u001b[0m\u001b[0mi\u001b[0m\u001b[0;34m]\u001b[0m\u001b[0;34m[\u001b[0m\u001b[0mj\u001b[0m\u001b[0;34m]\u001b[0m\u001b[0;34m)\u001b[0m\u001b[0;34m\u001b[0m\u001b[0;34m\u001b[0m\u001b[0m\n\u001b[0m\u001b[1;32m     82\u001b[0m                 \u001b[0;32mexcept\u001b[0m \u001b[0mKeyError\u001b[0m\u001b[0;34m:\u001b[0m\u001b[0;34m\u001b[0m\u001b[0;34m\u001b[0m\u001b[0m\n\u001b[1;32m     83\u001b[0m                     \u001b[0mprint\u001b[0m\u001b[0;34m(\u001b[0m\u001b[0;34mf\"KeyError: No se encontró la clave ({i}, {j}, {k}) en X_asi\"\u001b[0m\u001b[0;34m)\u001b[0m\u001b[0;34m\u001b[0m\u001b[0;34m\u001b[0m\u001b[0m\n",
            "\u001b[0;32m/usr/local/lib/python3.10/dist-packages/ortools/linear_solver/pywraplp.py\u001b[0m in \u001b[0;36mSetCoefficient\u001b[0;34m(self, var, coeff)\u001b[0m\n\u001b[1;32m    565\u001b[0m         \u001b[0;32mor\u001b[0m \u001b[0mcrashes\u001b[0m \u001b[0;32min\u001b[0m \u001b[0mnon\u001b[0m\u001b[0;34m-\u001b[0m\u001b[0mopt\u001b[0m \u001b[0mmode\u001b[0m\u001b[0;34m.\u001b[0m\u001b[0;34m\u001b[0m\u001b[0;34m\u001b[0m\u001b[0m\n\u001b[1;32m    566\u001b[0m         \"\"\"\n\u001b[0;32m--> 567\u001b[0;31m         \u001b[0;32mreturn\u001b[0m \u001b[0m_pywraplp\u001b[0m\u001b[0;34m.\u001b[0m\u001b[0mObjective_SetCoefficient\u001b[0m\u001b[0;34m(\u001b[0m\u001b[0mself\u001b[0m\u001b[0;34m,\u001b[0m \u001b[0mvar\u001b[0m\u001b[0;34m,\u001b[0m \u001b[0mcoeff\u001b[0m\u001b[0;34m)\u001b[0m\u001b[0;34m\u001b[0m\u001b[0;34m\u001b[0m\u001b[0m\n\u001b[0m\u001b[1;32m    568\u001b[0m \u001b[0;34m\u001b[0m\u001b[0m\n\u001b[1;32m    569\u001b[0m     \u001b[0;32mdef\u001b[0m \u001b[0mGetCoefficient\u001b[0m\u001b[0;34m(\u001b[0m\u001b[0mself\u001b[0m\u001b[0;34m,\u001b[0m \u001b[0mvar\u001b[0m\u001b[0;34m)\u001b[0m\u001b[0;34m:\u001b[0m\u001b[0;34m\u001b[0m\u001b[0;34m\u001b[0m\u001b[0m\n",
            "\u001b[0;31mSystemError\u001b[0m: <built-in function Objective_SetCoefficient> returned NULL without setting an exception"
          ]
        }
      ]
    }
  ]
}